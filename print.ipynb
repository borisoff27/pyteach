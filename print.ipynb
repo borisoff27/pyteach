{
 "cells": [
  {
   "cell_type": "markdown",
   "id": "f62d13fd",
   "metadata": {},
   "source": [
    "### Вывод на экран"
   ]
  },
  {
   "cell_type": "code",
   "execution_count": 1,
   "id": "86096405",
   "metadata": {
    "scrolled": true
   },
   "outputs": [
    {
     "name": "stdout",
     "output_type": "stream",
     "text": [
      "Hello, world!\n"
     ]
    }
   ],
   "source": [
    "print(\"Hello, world!\")"
   ]
  },
  {
   "cell_type": "markdown",
   "id": "a2d58e50",
   "metadata": {},
   "source": [
    "### Вывод нескольких строк"
   ]
  },
  {
   "cell_type": "code",
   "execution_count": 2,
   "id": "f379d1e9",
   "metadata": {},
   "outputs": [
    {
     "name": "stdout",
     "output_type": "stream",
     "text": [
      "Hello,\n",
      "world!\n"
     ]
    }
   ],
   "source": [
    "print(\"Hello,\")\n",
    "print(\"world!\")"
   ]
  },
  {
   "cell_type": "markdown",
   "id": "664ca463",
   "metadata": {},
   "source": [
    "### Конкатенация (сложение) строк"
   ]
  },
  {
   "cell_type": "code",
   "execution_count": 4,
   "id": "76bf1159",
   "metadata": {},
   "outputs": [
    {
     "name": "stdout",
     "output_type": "stream",
     "text": [
      "Hello, world!\n"
     ]
    }
   ],
   "source": [
    "print(\"Hello,\" + ' ' + \"world!\")"
   ]
  },
  {
   "cell_type": "markdown",
   "id": "037b37fe",
   "metadata": {},
   "source": [
    "### Несколько аргументов"
   ]
  },
  {
   "cell_type": "code",
   "execution_count": 5,
   "id": "45e6be36",
   "metadata": {},
   "outputs": [
    {
     "name": "stdout",
     "output_type": "stream",
     "text": [
      "Hello , world !\n"
     ]
    }
   ],
   "source": [
    "print(\"Hello\", ',', \"world\", '!')"
   ]
  },
  {
   "cell_type": "markdown",
   "id": "6b7b5a87",
   "metadata": {},
   "source": [
    "### Несколько аргументов с разделителем"
   ]
  },
  {
   "cell_type": "code",
   "execution_count": 6,
   "id": "1f6eccbe",
   "metadata": {},
   "outputs": [
    {
     "name": "stdout",
     "output_type": "stream",
     "text": [
      "Hello, world!\n",
      "8-800-555-35-35\n"
     ]
    }
   ],
   "source": [
    "print(\"Hello\", ', ', \"world\", '!', sep='')\n",
    "print(8, 800, 555, 35, 35, sep='-')"
   ]
  },
  {
   "cell_type": "markdown",
   "id": "796a652e",
   "metadata": {},
   "source": [
    "### Вывод нескольких print'ов в одну строку"
   ]
  },
  {
   "cell_type": "code",
   "execution_count": 7,
   "id": "997e149f",
   "metadata": {},
   "outputs": [
    {
     "name": "stdout",
     "output_type": "stream",
     "text": [
      "Площадь прямоугольника со сторонами 2 и 5: 10\n"
     ]
    }
   ],
   "source": [
    "print(\"Площадь прямоугольника со сторонами 2 и 5: \", end='')\n",
    "print(2 * 5)"
   ]
  }
 ],
 "metadata": {
  "kernelspec": {
   "display_name": "Python 3 (ipykernel)",
   "language": "python",
   "name": "python3"
  },
  "language_info": {
   "codemirror_mode": {
    "name": "ipython",
    "version": 3
   },
   "file_extension": ".py",
   "mimetype": "text/x-python",
   "name": "python",
   "nbconvert_exporter": "python",
   "pygments_lexer": "ipython3",
   "version": "3.11.4"
  }
 },
 "nbformat": 4,
 "nbformat_minor": 5
}
